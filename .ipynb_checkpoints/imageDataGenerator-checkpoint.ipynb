{
 "cells": [
  {
   "cell_type": "markdown",
   "id": "a9ccb231-3bd4-4f9e-b690-664a30cea21a",
   "metadata": {},
   "source": [
    "# Dice Reader\n",
    "\n",
    "This project is meant to showcase how to use Tensorflow for a computer vision use case.  \n",
    "The central themes showcased are the Convolutional Neural Network and the ImageDataGenerator.  \n",
    "\n",
    "- ImageDataGenerator\n",
    "    - load images and pass them to several other functions\n",
    "    - \"augment\" the data creating rotated versions of the seed images\n",
    "- Convolutional Neural Networks\n",
    "    - architecture and implementation\n",
    "    - training and tuning\n",
    "    - evaluating performance"
   ]
  },
  {
   "cell_type": "markdown",
   "id": "6d6238c6-05e0-4e30-9e12-d2bcb28af85c",
   "metadata": {},
   "source": [
    "## Setup\n",
    "\n",
    "This project assumes you have properly installed python and tensorflow (along with other useful packages).  \n",
    "The code below simply import the proper libraries and set some global options.  "
   ]
  },
  {
   "cell_type": "code",
   "execution_count": 2,
   "id": "707a5954-ac77-404e-afe9-1ecaa54df6e9",
   "metadata": {},
   "outputs": [],
   "source": [
    "import zipfile\n",
    "import glob\n",
    "import re\n",
    "from PIL import Image\n",
    "from skimage import io\n",
    "import numpy as np\n",
    "import pandas as pd\n",
    "from sklearn.model_selection import train_test_split\n",
    "import matplotlib.pyplot as plt\n",
    "import tensorflow as tf\n",
    "from tensorflow.keras import models\n",
    "#options\n",
    "np.set_printoptions(linewidth = 320)"
   ]
  },
  {
   "cell_type": "code",
   "execution_count": 3,
   "id": "08dcbb7c-3054-460b-890c-8d2dd993c0db",
   "metadata": {},
   "outputs": [],
   "source": [
    "#utils\n",
    "#plot images\n",
    "def plotImages(images_arr):\n",
    "    fig, axes = plt.subplots(1, 6, figsize = (20, 20))\n",
    "    axes = axes.flatten()\n",
    "    for img, ax in zip(images_arr, axes):\n",
    "        ax.imshow(img)\n",
    "        ax.axis(\"off\")\n",
    "    plt.tight_layout()\n",
    "    plt.show()"
   ]
  },
  {
   "cell_type": "markdown",
   "id": "d1d9e12f-3a1c-4ebc-abd2-17513c08713a",
   "metadata": {},
   "source": [
    "## Callback\n",
    "\n",
    "One smart way to prevent overfitting when using neural network is to rely on \"early stopping\".\n",
    "This simply means that training is interrupted earlier than planned. Generally, \"earlier\" means when the neural network reached a specific performance threshold in out-of-sample performance."
   ]
  },
  {
   "cell_type": "code",
   "execution_count": 4,
   "id": "5011cfbd-d63a-4ede-a6aa-6dacfac3f52d",
   "metadata": {},
   "outputs": [],
   "source": [
    "#callback (used to stop training if performance threshold is reached)\n",
    "class endTrainingCallback(tf.keras.callbacks.Callback):\n",
    "    def on_epoch_end(self, epoch, logs = {}):\n",
    "        if (logs.get(\"loss\") < 0.15):\n",
    "            print(\"\\nloss below threshold\")\n",
    "            self.model.stop_training = True\n",
    "#instantiate callback class\n",
    "cb = endTrainingCallback()"
   ]
  },
  {
   "cell_type": "markdown",
   "id": "a0780f8c-90e6-4462-af96-e52f9a0b8228",
   "metadata": {},
   "source": [
    "## Seed images\n",
    "\n",
    "To produce the taining (and validation, and testing) data, I decided to use data augmentation starting from six \"seed images\".  \n",
    "Instead of having many example of dice, I used six pictures of the six faces of a die. The six seed images are then rotated by a random angle and manipulated in several ways before being stored in their final folders (used as sources for the ImageDataGenerator).  \n",
    "  \n",
    "Below, you can see the six seed images."
   ]
  },
  {
   "cell_type": "code",
   "execution_count": 5,
   "id": "c1d83470-20c9-47cd-95fb-0f6f9871e445",
   "metadata": {},
   "outputs": [
    {
     "data": {
      "image/png": "[encoded data removed]",
      "text/plain": [
       "<Figure size 432x288 with 6 Axes>"
      ]
     },
     "metadata": {
      "needs_background": "light"
     },
     "output_type": "display_data"
    }
   ],
   "source": [
    "#load seed image\n",
    "#one\n",
    "im1 = io.imread(\"seedImages/seed_1/one.png\")\n",
    "im1 = im1.reshape((1, ) + im1.shape)\n",
    "#two\n",
    "im2 = io.imread(\"seedImages/seed_2/two.png\")\n",
    "im2 = im2.reshape((1, ) + im2.shape)\n",
    "#three\n",
    "im3 = io.imread(\"seedImages/seed_3/three.png\")\n",
    "im3 = im3.reshape((1, ) + im3.shape)\n",
    "#four\n",
    "im4 = io.imread(\"seedImages/seed_4/four.png\")\n",
    "im4 = im4.reshape((1, ) + im4.shape)\n",
    "#five\n",
    "im5 = io.imread(\"seedImages/seed_5/five.png\")\n",
    "im5 = im5.reshape((1, ) + im5.shape)\n",
    "#six\n",
    "im6 = io.imread(\"seedImages/seed_6/six.png\")\n",
    "im6 = im6.reshape((1, ) + im6.shape)\n",
    "#merge into list\n",
    "seedsImg = [im1, im2, im3, im4, im5, im6]\n",
    "\n",
    "#plot seeds\n",
    "plt.figure()\n",
    "for indx in range(0, 6):\n",
    "    plt.subplot(1, 6, indx + 1)\n",
    "    plt.imshow(seedsImg[indx][0])\n"
   ]
  },
  {
   "cell_type": "markdown",
   "id": "ee57951f-8b2a-408d-b2ad-a78157192e6e",
   "metadata": {},
   "source": [
    "## Augmented data - create train, test, and validation exemplars\n",
    "\n",
    "Below, I create the datasets by manipulating the seed images.\n",
    "This process could be replicated \"on the fly\" instead of storing the final images. However, I wanted to see some example to evaluate their quality.  \n",
    "When training the model, I'll use the ImageDataGeneraton \"on the fly\" drawing images from the train, test, and validation folders. This means that technically, the model is not trained on the images stored in those folders but on images created on demand based on the examples in the folders.  "
   ]
  },
  {
   "cell_type": "code",
   "execution_count": 6,
   "id": "e0e3f3f6-5d61-41a0-861c-793cbfab0c5e",
   "metadata": {},
   "outputs": [],
   "source": [
    "howManyAug = 1000 #how many augmented examples\n",
    "dirIndx = [\"one\", \"two\", \"three\", \"four\", \"five\", \"six\"] #list of seed classes\n",
    "dirType = [\"augmentedTrain/\", \"augmentedTest/\", \"augmentedValid/\"]\n",
    "#create ImageDataGenerator instance for loading and scaling seeds\n",
    "loadAndPrepro = tf.keras.preprocessing.image.ImageDataGenerator(\n",
    "    width_shift_range = .2,\n",
    "    height_shift_range = .2,\n",
    "    rotation_range = 180,\n",
    "    rescale = 1. / 255,\n",
    "    zoom_range = .15,\n",
    "    horizontal_flip = False,\n",
    "    vertical_flip = False,\n",
    "    fill_mode = \"nearest\")"
   ]
  },
  {
   "cell_type": "code",
   "execution_count": null,
   "id": "78299757-48a0-4361-9951-52331bca9a39",
   "metadata": {},
   "outputs": [],
   "source": [
    "#for each directory type\n",
    "for typeIndx in dirType:\n",
    "    #for each seed\n",
    "    for indx in range(0, 6):\n",
    "        #instantiate ImageDataGenerator (augmented)\n",
    "        im_aug_iter = loadAndPrepro.flow(seedsImg[indx],\n",
    "                                         batch_size = 16,\n",
    "                                         save_to_dir = typeIndx + dirIndx[indx],\n",
    "                                         save_prefix = \"aug\",\n",
    "                                         save_format = \"png\")\n",
    "        j = 0 #init counter\n",
    "        for nextStep in im_aug_iter:\n",
    "            j = j + 1\n",
    "            if j >= howManyAug:\n",
    "                break #exit\n"
   ]
  },
  {
   "cell_type": "markdown",
   "id": "bd328d96-0aec-4ebf-ba66-7b97ed2423dd",
   "metadata": {},
   "source": [
    "## ImageDataGenerator"
   ]
  },
  {
   "cell_type": "markdown",
   "id": "9c2f18b2-b976-4afd-8313-e1459d869374",
   "metadata": {},
   "source": [
    "Below, I created three generators drawing from the train, text, and validation folders.  \n",
    "The source directory is the only difference among the generators.  "
   ]
  },
  {
   "cell_type": "code",
   "execution_count": null,
   "id": "d2c8282d-1e7c-4acb-9174-30f4d7a35bd3",
   "metadata": {},
   "outputs": [],
   "source": [
    "#target direcotires\n",
    "train_dir = \"augmentedTrain/\"\n",
    "test_dir = \"augmentedTest/\"\n",
    "valid_dir = \"augmentedValid/\"\n",
    "#create iterators\n",
    "trainLoad = tf.keras.preprocessing.image.ImageDataGenerator(\n",
    "    width_shift_range = .2,\n",
    "    height_shift_range = .2,\n",
    "    rotation_range = 180,\n",
    "    rescale = 1. / 255,\n",
    "    zoom_range = .15,\n",
    "    horizontal_flip = False,\n",
    "    vertical_flip = False,\n",
    "    fill_mode = \"nearest\").flow_from_directory(\n",
    "    train_dir,\n",
    "    target_size = (275, 275),\n",
    "    classes = [\"one\", \"two\", \"three\", \"four\", \"five\", \"six\"],\n",
    "    batch_size = 32,\n",
    "    class_mode = \"categorical\")\n",
    "testLoad = tf.keras.preprocessing.image.ImageDataGenerator(\n",
    "    width_shift_range = .2,\n",
    "    height_shift_range = .2,\n",
    "    rotation_range = 180,\n",
    "    rescale = 1. / 255,\n",
    "    zoom_range = .15,\n",
    "    horizontal_flip = False,\n",
    "    vertical_flip = False,\n",
    "    fill_mode = \"nearest\").flow_from_directory(\n",
    "    test_dir,\n",
    "    target_size = (275, 275),\n",
    "    classes = [\"one\", \"two\", \"three\", \"four\", \"five\", \"six\"],\n",
    "    batch_size = 32,\n",
    "    class_mode = \"categorical\")\n",
    "validLoad = tf.keras.preprocessing.image.ImageDataGenerator(\n",
    "    width_shift_range = .2,\n",
    "    height_shift_range = .2,\n",
    "    rotation_range = 180,\n",
    "    rescale = 1. / 255,\n",
    "    zoom_range = .15,\n",
    "    horizontal_flip = False,\n",
    "    vertical_flip = False,\n",
    "    fill_mode = \"nearest\").flow_from_directory(\n",
    "    valid_dir,\n",
    "    target_size = (275, 275),\n",
    "    classes = [\"one\", \"two\", \"three\", \"four\", \"five\", \"six\"],\n",
    "    batch_size = 32,\n",
    "    class_mode = \"categorical\")"
   ]
  },
  {
   "cell_type": "markdown",
   "id": "1be08688-fbff-4c8c-a0a8-cf16c39ff3b1",
   "metadata": {},
   "source": [
    "Below, you can find some examples from the training generator.  \n",
    "Each picture is plotted and the target categories are provided in the form of category probability. "
   ]
  },
  {
   "cell_type": "code",
   "execution_count": null,
   "id": "cc370348-7ecb-4e5e-a718-74e54c488080",
   "metadata": {},
   "outputs": [],
   "source": [
    "imgs, labels = next(trainLoad)"
   ]
  },
  {
   "cell_type": "code",
   "execution_count": null,
   "id": "2c8d13ed-3bbf-41ba-ae7e-885104bab156",
   "metadata": {},
   "outputs": [],
   "source": [
    "plotImages(imgs)\n",
    "print(labels)"
   ]
  },
  {
   "cell_type": "markdown",
   "id": "e624a7ed-12ad-4e85-9ffd-3a56dad0ed00",
   "metadata": {},
   "source": [
    "## Define neural network architecture\n",
    "\n",
    "The code below defines the convolutional neural network architecture and compiles the model.  \n",
    "The neural network has  \n",
    "- one sequential input layer\n",
    "- two convolution/pooling segments (4 layers in total)  \n",
    "- three densely connected layers wit relu activation  \n",
    "- one output layer with 6 nodes (one per target category) with softmax activation (which normalizes the probabilities to sum to 1)."
   ]
  },
  {
   "cell_type": "code",
   "execution_count": null,
   "id": "656cff3a-9e07-4012-be92-8611dd8fe3d2",
   "metadata": {},
   "outputs": [],
   "source": [
    "#neural network architecture\n",
    "model = tf.keras.Sequential([\n",
    "    tf.keras.layers.Conv2D(input_shape = (275, 275, 3),\n",
    "                           filters = 64, kernel_size = (3, 3),\n",
    "                           activation = \"relu\", padding = \"same\"),\n",
    "    tf.keras.layers.MaxPooling2D(pool_size = 2, strides = 2),\n",
    "    tf.keras.layers.Conv2D(filters = 128, kernel_size =(3, 3),\n",
    "                           activation = \"relu\", padding = \"same\"),\n",
    "    tf.keras.layers.MaxPooling2D(pool_size = 2, strides = 2),\n",
    "    tf.keras.layers.Flatten(),\n",
    "    tf.keras.layers.Dense(units = 128, activation = tf.nn.relu),\n",
    "    tf.keras.layers.Dense(units = 128, activation = tf.nn.relu),\n",
    "    tf.keras.layers.Dense(units = 128, activation = tf.nn.relu),\n",
    "    tf.keras.layers.Dense(units = 6, activation = \"softmax\")\n",
    "])"
   ]
  },
  {
   "cell_type": "markdown",
   "id": "8079094a-71e7-45fb-ae6e-0f871009f50c",
   "metadata": {},
   "source": [
    "The final arcitecture is displayied (and can be checked)."
   ]
  },
  {
   "cell_type": "code",
   "execution_count": null,
   "id": "ea3d69a3-a793-4df9-aef9-07ce544bc2d9",
   "metadata": {},
   "outputs": [],
   "source": [
    "model.summary()"
   ]
  },
  {
   "cell_type": "markdown",
   "id": "b7c10a4c-57ac-4642-8cad-301dc4fea22d",
   "metadata": {},
   "source": [
    "The model is then compiled.  \n",
    "The target metrics is accuracy, the loss function is categorical cross-entropy, and a learning rate of 0.0001 is hardwired into the model."
   ]
  },
  {
   "cell_type": "code",
   "execution_count": null,
   "id": "b57181c2-c597-40c1-b58c-98d59a518e6a",
   "metadata": {},
   "outputs": [],
   "source": [
    "#compile network\n",
    "model.compile(optimizer = tf.keras.optimizers.Adam(learning_rate = 0.0001),\n",
    "              loss = \"categorical_crossentropy\",\n",
    "              metrics = [\"accuracy\"])"
   ]
  },
  {
   "cell_type": "markdown",
   "id": "0a6e2704-964d-4c67-86f6-215343f1babc",
   "metadata": {},
   "source": [
    "## Training\n",
    "\n",
    "The model is iteratively trained (see epochs parameter) using the training generator and training is interrupted using the callback (see above).  \n",
    "In sample performance is computed on the training set while out of sample performance is computed on the validation set.  \n",
    "Test set is reserved for model evaluation.  "
   ]
  },
  {
   "cell_type": "code",
   "execution_count": null,
   "id": "8d280219-f9bc-4348-91d4-366c869fbf7c",
   "metadata": {},
   "outputs": [],
   "source": [
    "#fit model\n",
    "history = model.fit(\n",
    "    x = trainLoad,\n",
    "    steps_per_epoch = 2,\n",
    "    epochs = 256,\n",
    "    validation_data = validLoad,\n",
    "    validation_steps = 2,\n",
    "    verbose = 2)"
   ]
  },
  {
   "cell_type": "markdown",
   "id": "c96d7781-4fed-48c1-81a0-74296b9d98a3",
   "metadata": {},
   "source": [
    "### Storing the model\n",
    "\n",
    "The model is stored on disk and retrieved again (retrieving is unnecessary as the model is currently in the environment)."
   ]
  },
  {
   "cell_type": "code",
   "execution_count": null,
   "id": "df982398-5d9b-41da-8c2b-1e413987166e",
   "metadata": {},
   "outputs": [],
   "source": [
    "#save trained model\n",
    "model.save(\"trainedModel/diceRecognizer\")"
   ]
  },
  {
   "cell_type": "code",
   "execution_count": null,
   "id": "c7320db4-a5a6-4339-bee4-b243efb14981",
   "metadata": {},
   "outputs": [],
   "source": [
    "#load saved model\n",
    "model = tf.keras.models.load_model(\"trainedModel/diceRecognizer\")"
   ]
  },
  {
   "cell_type": "markdown",
   "id": "b8b02add-365e-4f2c-9b10-c8872bc6d85f",
   "metadata": {},
   "source": [
    "## Evaluation\n",
    "\n",
    "The model's performance is evaluated using the test generator.  "
   ]
  },
  {
   "cell_type": "markdown",
   "id": "6205f13d-9de2-49e4-a2c4-71af972c4f0f",
   "metadata": {},
   "source": [
    "### Performance gist\n",
    "\n",
    "The model's performance is qualitatively investigated with six prediction instances.  "
   ]
  },
  {
   "cell_type": "code",
   "execution_count": null,
   "id": "cb7018bd-6434-476e-95f2-0b8ac4d00757",
   "metadata": {},
   "outputs": [],
   "source": [
    "test_imgs, test_labels = next(testLoad)\n",
    "plotImages(test_imgs)\n",
    "p = model.predict(test_imgs[0:6])\n",
    "[np.argmax(i) + 1 for i in p]"
   ]
  },
  {
   "cell_type": "markdown",
   "id": "631a03f9-9370-4e8c-bf69-9edeb5742690",
   "metadata": {},
   "source": [
    "### Performance exploration\n",
    "\n",
    "The model's performance is probed by looking at the confusion matrix."
   ]
  },
  {
   "cell_type": "code",
   "execution_count": null,
   "id": "4a0ee94e-afba-412d-a56b-abe81278fd2f",
   "metadata": {},
   "outputs": [],
   "source": [
    "#extract batch\n",
    "test_imgs, test_labels = next(testLoad)\n",
    "#format labels\n",
    "test_labels = [np.argmax(i) for i in test_labels]\n",
    "#make predictions\n",
    "p = model.predict(test_imgs)\n",
    "#format predictions\n",
    "p = [np.argmax(i) for i in p]\n",
    "#condusion matrix\n",
    "cfMat = tf.math.confusion_matrix(\n",
    "    labels = test_labels,\n",
    "    predictions = p,\n",
    ")"
   ]
  },
  {
   "cell_type": "code",
   "execution_count": null,
   "id": "4f2793ae-640c-4ca4-8694-5b6c62ad10f9",
   "metadata": {},
   "outputs": [],
   "source": [
    "#condusion matrix\n",
    "cfMat"
   ]
  },
  {
   "cell_type": "markdown",
   "id": "8b4a9dc8-98fd-4896-b563-6f7d1745f8b7",
   "metadata": {},
   "source": [
    "### Performance assessment\n",
    "\n",
    "The final model's performance is evaluated on a larger series of predictions."
   ]
  },
  {
   "cell_type": "code",
   "execution_count": null,
   "id": "0b8f1c05-a040-4595-9cc4-87946eef04da",
   "metadata": {},
   "outputs": [],
   "source": []
  },
  {
   "cell_type": "code",
   "execution_count": null,
   "id": "7ebc100d-7b7b-4f48-9195-6cc902cb77b8",
   "metadata": {},
   "outputs": [],
   "source": [
    "f, axarr = plt.subplots(3, 4)\n",
    "\n",
    "FIRST_IMAGE = 0\n",
    "SECOND_IMAGE = 1\n",
    "THIRD_IMAGE = 2\n",
    "CONVOLUTION_NUMBER = 0\n",
    "\n",
    "layer_outputs = [layer.output for layer in model.layers]\n",
    "activation_model = tf.keras.models.Model(inputs = model.input, outputs = layer_outputs)\n",
    "\n",
    "for x in range(0, 4):\n",
    "    f1 = activation_model.predict(x_test[FIRST_IMAGE].reshape(1, 28, 28, 1))[x]\n",
    "    axarr[0, x].imshow(f1[0, : , : , CONVOLUTION_NUMBER], cmap = \"inferno\")\n",
    "    axarr[0, x].grid(False)\n",
    "    \n",
    "    f2 = activation_model.predict(x_test[SECOND_IMAGE].reshape(1, 28, 28, 1))[x]\n",
    "    axarr[1, x].imshow(f2[0, : , : , CONVOLUTION_NUMBER], cmap = \"inferno\")\n",
    "    axarr[1, x].grid(False)\n",
    "    \n",
    "    f3 = activation_model.predict(x_test[THIRD_IMAGE].reshape(1, 28, 28, 1))[x]\n",
    "    axarr[2, x].imshow(f3[0, : , : , CONVOLUTION_NUMBER], cmap = \"inferno\")\n",
    "    axarr[2, x].grid(False)\n",
    "    \n",
    "\n"
   ]
  },
  {
   "cell_type": "code",
   "execution_count": null,
   "id": "3af79dad-2e83-41c3-b89f-e881ba5e0349",
   "metadata": {},
   "outputs": [],
   "source": []
  }
 ],
 "metadata": {
  "kernelspec": {
   "display_name": "Python 3 (ipykernel)",
   "language": "python",
   "name": "python3"
  },
  "language_info": {
   "codemirror_mode": {
    "name": "ipython",
    "version": 3
   },
   "file_extension": ".py",
   "mimetype": "text/x-python",
   "name": "python",
   "nbconvert_exporter": "python",
   "pygments_lexer": "ipython3",
   "version": "3.9.7"
  }
 },
 "nbformat": 4,
 "nbformat_minor": 5
}
